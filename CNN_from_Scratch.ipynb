{
  "cells": [
    {
      "cell_type": "markdown",
      "metadata": {
        "id": "uYG715eCXY2S"
      },
      "source": [
        "# <font color='red'>Implement CNN from scratch</font>"
      ]
    },
    {
      "cell_type": "markdown",
      "metadata": {
        "id": "lrPbQxO3XY2b"
      },
      "source": [
        "### In the following assignment you have to compute the convolutional operations from scratch using Numpy\n",
        "You will then verify the correctness of the your implementation using a \"grader\" function/cell (provided by us) which will match your implmentation.\n",
        "\n",
        "The grader fucntion would help you validate the correctness of your code. \n",
        "\n",
        "Please submit the final Colab notebook in the classroom ONLY after you have verified your code using the grader function/cell.\n",
        "\n",
        "\n",
        "**NOTE: DO NOT change the \"grader\" functions or code snippets written by us.Please add your code in the suggested locations.**\n",
        "\n",
        "Ethics Code:\n",
        "1. You are welcome to read up online resources to implement the code. \n",
        "2. You can also discuss with your classmates on the implmentation over Slack.\n",
        "3. But, the code you write and submit should be yours ONLY. Your code will be compared against other stduents' code and online code snippets to check for plagiarism. If your code is found to be plagiarised, you will be awarded zero-marks for all assignments, which have a 10% weightage in the final marks for this course."
      ]
    },
    {
      "cell_type": "markdown",
      "metadata": {
        "id": "a5ExZopOXY2c"
      },
      "source": [
        "### Task 1. Calcuate the shape of the output image\n",
        "We use the below formula to calculate the shape of output image after performing the required operations\n",
        "<img src='https://i.imgur.com/BlepuHW.jpg'>"
      ]
    },
    {
      "cell_type": "code",
      "execution_count": 132,
      "metadata": {
        "id": "6gXGr5kgXY2d"
      },
      "outputs": [],
      "source": [
        "#https://stats.stackexchange.com/questions/351115/convolution-with-a-non-square-kernel\n",
        "#for simplicity we are assuming stride=1\n",
        "import numpy as np\n",
        "def calculate_output_shape(img_size, kernel_size,padding):\n",
        "    #\n",
        "    img_length=img_size[0]\n",
        "    img_width=img_size[1]\n",
        "    kernel_length=kernel_size[0]\n",
        "    kernel_width=kernel_size[1]\n",
        "    #return -1,-1 if the shape of kernel is greater than img_size\n",
        "    if ((kernel_length > img_length) and (kernel_width > img_width)):\n",
        "      return -1,-1\n",
        "    #use the above formula to calculate output_length and output_width\n",
        "    output_length = int(np.floor(img_size[0] + 2*padding - kernel_size[0]) + 1)\n",
        "    output_width = int(np.floor(img_size[1] + 2*padding - kernel_size[1]) + 1)\n",
        "\n",
        "    return output_length,output_width"
      ]
    },
    {
      "cell_type": "code",
      "execution_count": 133,
      "metadata": {
        "id": "62sjFLISXY2f",
        "colab": {
          "base_uri": "https://localhost:8080/"
        },
        "outputId": "685a94a1-f523-4611-d5e2-63be428037aa"
      },
      "outputs": [
        {
          "output_type": "execute_result",
          "data": {
            "text/plain": [
              "True"
            ]
          },
          "metadata": {},
          "execution_count": 133
        }
      ],
      "source": [
        "def grader_calculate_size(l1,w1,l2,w2,l3,w3):\n",
        "    case_1=(l1==220 and w1==220)\n",
        "    case_2=(l2==-1 and w2==-1)\n",
        "    case_3=(l3==128 and w3==128)\n",
        "    assert(case_1 and case_2 and case_3)\n",
        "    return True\n",
        "l1,w1=calculate_output_shape((224,224), (5,5),0)\n",
        "l2,w2=calculate_output_shape((10,10), (12,12),1)\n",
        "l3,w3=calculate_output_shape((128,128), (3,3),1)\n",
        "grader_calculate_size(l1,w1,l2,w2,l3,w3)"
      ]
    },
    {
      "cell_type": "markdown",
      "metadata": {
        "id": "SfMBO3EFXY2g"
      },
      "source": [
        "### Task 2 . Get the padded image\n",
        "In this task we have to add layer of zeros as padding layers in the original image"
      ]
    },
    {
      "cell_type": "code",
      "execution_count": 134,
      "metadata": {
        "id": "UI-0mnr7XY2h"
      },
      "outputs": [],
      "source": [
        "def get_padded_image(input_img, padding_width):\n",
        "    \n",
        "    #if the padding length is less than or equal to 0 then return the original image\n",
        "    if(padding_width<=0):\n",
        "        return img\n",
        "    \n",
        "    #you can initialize a matrix of all zeros and then copy the image data \n",
        "    img_with_padding = np.zeros((input_img.shape[0]+2*padding_width,input_img.shape[1]+2*padding_width))\n",
        "\n",
        "    img_with_padding[padding_width: -1 * padding_width , padding_width:-1 * padding_width ] = img\n",
        "\n",
        "    return img_with_padding"
      ]
    },
    {
      "cell_type": "code",
      "execution_count": 135,
      "metadata": {
        "id": "D1ygcCQdXY2j",
        "colab": {
          "base_uri": "https://localhost:8080/"
        },
        "outputId": "b987bb00-5d83-42d8-ec15-3ee0d3c389ca"
      },
      "outputs": [
        {
          "output_type": "execute_result",
          "data": {
            "text/plain": [
              "True"
            ]
          },
          "metadata": {},
          "execution_count": 135
        }
      ],
      "source": [
        "def grader_padding(img1,img2):\n",
        "    a1=((img1.shape)==(8,8))\n",
        "    a2=((img2.shape)==(4,4))\n",
        "    assert(a1 and a2)\n",
        "    b1=(img1.sum(axis=1)==[ 0.,  0., 10., 26., 42., 58.,  0.,  0.])\n",
        "    b2=(img1.sum(axis=0)==[ 0, 0, 28, 32, 36, 40,  0,  0])\n",
        "    assert(b1.all() and b2.all())\n",
        "    return True\n",
        "\n",
        "img=np.array([[1,2,3,4],[5,6,7,8],[9,10,11,12],[13,14,15,16]])\n",
        "img1=get_padded_image(img, 2)\n",
        "img2=get_padded_image(img, 0)\n",
        "grader_padding(img1,img2)"
      ]
    },
    {
      "cell_type": "markdown",
      "metadata": {
        "id": "7CoAIHjIXY2l"
      },
      "source": [
        "### Task 3 . Performing convolution\n",
        "In this task we have to add layer of zeros as padding layers in the original image"
      ]
    },
    {
      "cell_type": "code",
      "execution_count": 136,
      "metadata": {
        "id": "JkQA_QAdXY2m"
      },
      "outputs": [],
      "source": [
        "def convolve(img, kernel,pad):\n",
        "    #calcualte the size of required image\n",
        "    tgt_size_length,tgt_size_width =  calculate_output_shape((img.shape[0],img.shape[1]),(kernel.shape[0],kernel.shape[1]),pad)\n",
        "  \n",
        "    #initialize the matrix of all zeros\n",
        "    convolved_img = np.zeros(shape=(tgt_size_length, tgt_size_width))\n",
        "    \n",
        "    new_img=get_padded_image(img, pad)\n",
        "    # write the code for convolution\n",
        "\n",
        "    k = kernel.shape[0]\n",
        "    for i in range(tgt_size_length):\n",
        "      for j in range(tgt_size_width):\n",
        "        matrix = new_img[i:i+k, j:j+k]\n",
        "        \n",
        "        convolved_img[i,j] = np.sum(np.multiply(kernel,matrix))\n",
        "    # print(convolved_img)\n",
        "    return convolved_img"
      ]
    },
    {
      "cell_type": "code",
      "execution_count": 137,
      "metadata": {
        "id": "dPklXSK5XY2m",
        "colab": {
          "base_uri": "https://localhost:8080/"
        },
        "outputId": "329b97d7-7483-4a0d-992d-3dc43354631d"
      },
      "outputs": [
        {
          "output_type": "execute_result",
          "data": {
            "text/plain": [
              "True"
            ]
          },
          "metadata": {},
          "execution_count": 137
        }
      ],
      "source": [
        "def grader_convolve(conv_img):\n",
        "    a1=(conv_img.shape==(5,5))\n",
        "    a2=(conv_img.sum(axis=1)==([10, 26, 42, 58,  0]))\n",
        "    a3=(conv_img.sum(axis=0)==([ 0,28, 32, 36, 40]))\n",
        "    assert(a1 and a2.all() and a3.all())\n",
        "    return True\n",
        "img=np.array([[1,2,3,4],[5,6,7,8],[9,10,11,12],[13,14,15,16]])\n",
        "kernel=np.array([[1,-1],[0,1]])\n",
        "conv_img=convolve(img, kernel,1)\n",
        "grader_convolve(conv_img)"
      ]
    },
    {
      "cell_type": "markdown",
      "metadata": {
        "id": "N2vg4RtDXY2n"
      },
      "source": [
        "### Task 4: Perform Maxpooling with strides\n"
      ]
    },
    {
      "cell_type": "code",
      "execution_count": 138,
      "metadata": {
        "id": "mPeVJNobXY2o"
      },
      "outputs": [],
      "source": [
        "def get_maxpools(img, pool_size, stride):\n",
        "  # write your code to get the pooled matrix\n",
        "  list_pools = []\n",
        "  max_list = []\n",
        "  for i in range(0,img.shape[0],stride):\n",
        "    for j in range(0,img.shape[1],stride):\n",
        "      pool_mat = img[i:i+pool_size, j:j+pool_size]\n",
        "      if pool_mat.shape == (pool_size, pool_size):\n",
        "        list_pools.append(pool_mat)\n",
        "  pool_array =  np.array(list_pools)\n",
        "  final_shape = (int(np.sqrt(pool_array.shape[0])), int(np.sqrt(pool_array.shape[0])))\n",
        "  for i in list_pools:\n",
        "    max_list.append(np.max(i))\n",
        "  pooling_mat = np.array(max_list).reshape(final_shape)\n",
        "  return (pooling_mat)\n",
        "\n",
        "    "
      ]
    },
    {
      "cell_type": "code",
      "execution_count": 139,
      "metadata": {
        "id": "812MCJtXXY2o",
        "colab": {
          "base_uri": "https://localhost:8080/"
        },
        "outputId": "69c02535-e212-4427-94bb-998f244af02d"
      },
      "outputs": [
        {
          "output_type": "execute_result",
          "data": {
            "text/plain": [
              "True"
            ]
          },
          "metadata": {},
          "execution_count": 139
        }
      ],
      "source": [
        "def pooling_final(pooled_output):\n",
        "    a1=(pooled_output.sum(axis=0)==[30, 33, 36])\n",
        "    a2=(pooled_output.sum(axis=1)==[21, 33, 45])\n",
        "    assert(a1.all() and a2.all())\n",
        "    return True\n",
        "img=np.array([[1,2,3,4],[5,6,7,8],[9,10,11,12],[13,14,15,16]])\n",
        "pool_size=2\n",
        "stride=1\n",
        "pooled_output=(get_maxpools(img, pool_size, stride))\n",
        "pooling_final(pooled_output)"
      ]
    },
    {
      "cell_type": "code",
      "execution_count": null,
      "metadata": {
        "id": "ILwoTYAsXY2p"
      },
      "outputs": [],
      "source": [
        ""
      ]
    }
  ],
  "metadata": {
    "kernelspec": {
      "display_name": "Python 3",
      "language": "python",
      "name": "python3"
    },
    "language_info": {
      "codemirror_mode": {
        "name": "ipython",
        "version": 3
      },
      "file_extension": ".py",
      "mimetype": "text/x-python",
      "name": "python",
      "nbconvert_exporter": "python",
      "pygments_lexer": "ipython3",
      "version": "3.6.3"
    },
    "colab": {
      "name": "Copy of CNN_from_Scratch.ipynb",
      "provenance": [],
      "collapsed_sections": []
    }
  },
  "nbformat": 4,
  "nbformat_minor": 0
}